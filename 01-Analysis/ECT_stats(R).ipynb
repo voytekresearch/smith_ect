{
 "cells": [
  {
   "cell_type": "code",
   "execution_count": 15,
   "id": "f23732ad",
   "metadata": {
    "scrolled": false
   },
   "outputs": [
    {
     "name": "stderr",
     "output_type": "stream",
     "text": [
      "Updating HTML index of packages in '.Library'\n",
      "Making 'packages.html' ... done\n"
     ]
    }
   ],
   "source": [
    "# load libraries\n",
    "library(dplyr)\n",
    "library(lme4)\n",
    "#install.packages('Hmisc')\n",
    "#library(Hmisc)\n",
    "library(tibble)\n",
    "install.packages('ciTools')\n",
    "library(ciTools)\n",
    "\n",
    "# load data\n",
    "data <- read.csv('all_features_meanband_NEW.csv')\n",
    "\n",
    "# drop rows for incomplete or no-seizure data\n",
    "data <- data[data$patients != 'AAA' & data$patients != 'BBB' & data$patients !='CCC',]"
   ]
  },
  {
   "cell_type": "code",
   "execution_count": 14,
   "id": "1cb3d2c3",
   "metadata": {},
   "outputs": [],
   "source": [
    "# exclude XXX\n",
    "exclude_XXX <- FALSE\n",
    "if(exclude_XXX){\n",
    "    data <- data[data$patients != 'XXX',]} else {\n",
    "    data <- data\n",
    "}"
   ]
  },
  {
   "cell_type": "code",
   "execution_count": 16,
   "id": "d15ab56d",
   "metadata": {
    "scrolled": true
   },
   "outputs": [],
   "source": [
    "# remove dots from names\n",
    "names(data) <- gsub(\"\\\\.\", \"_\", names(data))\n",
    "# remove empty QIDS question #6\n",
    "drops <- c('X6__Mood__irritable_')\n",
    "data <- data[ , !(names(data) %in% drops)]"
   ]
  },
  {
   "cell_type": "code",
   "execution_count": 17,
   "id": "259b3414",
   "metadata": {
    "scrolled": true
   },
   "outputs": [
    {
     "name": "stderr",
     "output_type": "stream",
     "text": [
      "Warning message in lapply(X = X, FUN = FUN, ...):\n",
      "“NAs introduced by coercion”Warning message in lapply(X = X, FUN = FUN, ...):\n",
      "“NAs introduced by coercion”Warning message in lapply(X = X, FUN = FUN, ...):\n",
      "“NAs introduced by coercion”Warning message in lapply(X = X, FUN = FUN, ...):\n",
      "“NAs introduced by coercion”Warning message in lapply(X = X, FUN = FUN, ...):\n",
      "“NAs introduced by coercion”Warning message in lapply(X = X, FUN = FUN, ...):\n",
      "“NAs introduced by coercion”Warning message in lapply(X = X, FUN = FUN, ...):\n",
      "“NAs introduced by coercion”Warning message in lapply(X = X, FUN = FUN, ...):\n",
      "“NAs introduced by coercion”Warning message in lapply(X = X, FUN = FUN, ...):\n",
      "“NAs introduced by coercion”Warning message in lapply(X = X, FUN = FUN, ...):\n",
      "“NAs introduced by coercion”Warning message in lapply(X = X, FUN = FUN, ...):\n",
      "“NAs introduced by coercion”Warning message in lapply(X = X, FUN = FUN, ...):\n",
      "“NAs introduced by coercion”Warning message in lapply(X = X, FUN = FUN, ...):\n",
      "“NAs introduced by coercion”Warning message in lapply(X = X, FUN = FUN, ...):\n",
      "“NAs introduced by coercion”Warning message in lapply(X = X, FUN = FUN, ...):\n",
      "“NAs introduced by coercion”Warning message in lapply(X = X, FUN = FUN, ...):\n",
      "“NAs introduced by coercion”Warning message in lapply(X = X, FUN = FUN, ...):\n",
      "“NAs introduced by coercion”Warning message in lapply(X = X, FUN = FUN, ...):\n",
      "“NAs introduced by coercion”Warning message in lapply(X = X, FUN = FUN, ...):\n",
      "“NAs introduced by coercion”Warning message in lapply(X = X, FUN = FUN, ...):\n",
      "“NAs introduced by coercion”"
     ]
    }
   ],
   "source": [
    "# convert ratings from char format to numeric\n",
    "data[, c(12:53)] <- sapply(data[,c(12:53)], as.character)\n",
    "data[, c(12:53)] <- sapply(data[,c(12:53)], as.numeric)"
   ]
  },
  {
   "cell_type": "code",
   "execution_count": 18,
   "id": "57314bbd",
   "metadata": {},
   "outputs": [
    {
     "data": {
      "text/html": [
       "<ol class=list-inline>\n",
       "\t<li>15</li>\n",
       "\t<li>15</li>\n",
       "\t<li>15</li>\n",
       "\t<li>15</li>\n",
       "\t<li>15</li>\n",
       "\t<li>15</li>\n",
       "\t<li>15</li>\n",
       "\t<li>15</li>\n",
       "\t<li>15</li>\n",
       "\t<li>15</li>\n",
       "\t<li>15</li>\n",
       "</ol>\n"
      ],
      "text/latex": [
       "\\begin{enumerate*}\n",
       "\\item 15\n",
       "\\item 15\n",
       "\\item 15\n",
       "\\item 15\n",
       "\\item 15\n",
       "\\item 15\n",
       "\\item 15\n",
       "\\item 15\n",
       "\\item 15\n",
       "\\item 15\n",
       "\\item 15\n",
       "\\end{enumerate*}\n"
      ],
      "text/markdown": [
       "1. 15\n",
       "2. 15\n",
       "3. 15\n",
       "4. 15\n",
       "5. 15\n",
       "6. 15\n",
       "7. 15\n",
       "8. 15\n",
       "9. 15\n",
       "10. 15\n",
       "11. 15\n",
       "\n",
       "\n"
      ],
      "text/plain": [
       " [1] 15 15 15 15 15 15 15 15 15 15 15"
      ]
     },
     "metadata": {},
     "output_type": "display_data"
    }
   ],
   "source": [
    "# data check (should be 15's all across)\n",
    "data[data$patients=='YYY' & data$sessions==12,]$QIDS"
   ]
  },
  {
   "cell_type": "code",
   "execution_count": 19,
   "id": "73d86a50",
   "metadata": {
    "scrolled": true
   },
   "outputs": [],
   "source": [
    "# means of all data\n",
    "mean_data <- aggregate(data[, 7:40], list(data$patients, data$sessions, data$preposts), mean, na.rm=TRUE)\n",
    "mean_data <- mean_data %>% rename(\n",
    "                patients = Group.1,\n",
    "                sessions = Group.2,\n",
    "                preposts = Group.3)\n",
    "\n",
    "# pre data\n",
    "pre_mean_data <- mean_data %>% filter(preposts=='Pre')\n",
    "\n",
    "# post data\n",
    "post_mean_data <- mean_data %>% filter(preposts=='Post')\n",
    "\n",
    "# diff data\n",
    "# diff_mean_data <- aggregate(mean_data[,4:8], list(mean_data$patients, mean_data$sessions), diff, na.rm = TRUE)\n",
    "# diff_mean_data <- diff_mean_data %>% rename(\n",
    "#                           patients = Group.1,\n",
    "#                           sessions = Group.2)\n",
    "# diff_mean_data <- add_column(diff_mean_data, preposts=rep('Diff', 23), .after = 'sessions')\n",
    "# diff_mean_data <- cbind(diff_mean_data, post_mean_data[, 9:28])"
   ]
  },
  {
   "cell_type": "code",
   "execution_count": 13,
   "id": "37ac0d39",
   "metadata": {},
   "outputs": [
    {
     "data": {
      "text/html": [
       "<ol class=list-inline>\n",
       "\t<li>'patients'</li>\n",
       "\t<li>'sessions'</li>\n",
       "\t<li>'preposts'</li>\n",
       "\t<li>'chans_exps'</li>\n",
       "\t<li>'offsets'</li>\n",
       "\t<li>'deltas'</li>\n",
       "\t<li>'delta_pows'</li>\n",
       "\t<li>'alphas'</li>\n",
       "\t<li>'alpha_pows'</li>\n",
       "\t<li>'thetas'</li>\n",
       "\t<li>'theta_pows'</li>\n",
       "\t<li>'delta_band_pow'</li>\n",
       "\t<li>'alpha_band_pow'</li>\n",
       "\t<li>'theta_band_pow'</li>\n",
       "\t<li>'l_pow'</li>\n",
       "\t<li>'h_pow'</li>\n",
       "\t<li>'total_pow'</li>\n",
       "\t<li>'QIDS'</li>\n",
       "\t<li>'X1__Sleep_onset_insomnia'</li>\n",
       "\t<li>'X2__Mid_nocturnal_insomnia'</li>\n",
       "\t<li>'X3__Early_morning_insomnia'</li>\n",
       "\t<li>'X4__Hypersomnia'</li>\n",
       "\t<li>'X1_4_Highest'</li>\n",
       "\t<li>'X5__Mood__sad_'</li>\n",
       "\t<li>'X7__Appetite__increased_'</li>\n",
       "\t<li>'X8__Appetite__decreased_'</li>\n",
       "\t<li>'X9__Weight__decrease_'</li>\n",
       "\t<li>'X10__Weight__increase_'</li>\n",
       "\t<li>'X7_10_Highest'</li>\n",
       "\t<li>'X11__Concentration'</li>\n",
       "\t<li>'X12__Outlook__self_'</li>\n",
       "\t<li>'X13__Suicidal_ideation'</li>\n",
       "\t<li>'X14__Involvement'</li>\n",
       "\t<li>'X15__Energy'</li>\n",
       "\t<li>'X16__Psychomotor_slowing'</li>\n",
       "\t<li>'X17__Psychomotor_agitation'</li>\n",
       "\t<li>'X16_17_Highest'</li>\n",
       "</ol>\n"
      ],
      "text/latex": [
       "\\begin{enumerate*}\n",
       "\\item 'patients'\n",
       "\\item 'sessions'\n",
       "\\item 'preposts'\n",
       "\\item 'chans\\_exps'\n",
       "\\item 'offsets'\n",
       "\\item 'deltas'\n",
       "\\item 'delta\\_pows'\n",
       "\\item 'alphas'\n",
       "\\item 'alpha\\_pows'\n",
       "\\item 'thetas'\n",
       "\\item 'theta\\_pows'\n",
       "\\item 'delta\\_band\\_pow'\n",
       "\\item 'alpha\\_band\\_pow'\n",
       "\\item 'theta\\_band\\_pow'\n",
       "\\item 'l\\_pow'\n",
       "\\item 'h\\_pow'\n",
       "\\item 'total\\_pow'\n",
       "\\item 'QIDS'\n",
       "\\item 'X1\\_\\_Sleep\\_onset\\_insomnia'\n",
       "\\item 'X2\\_\\_Mid\\_nocturnal\\_insomnia'\n",
       "\\item 'X3\\_\\_Early\\_morning\\_insomnia'\n",
       "\\item 'X4\\_\\_Hypersomnia'\n",
       "\\item 'X1\\_4\\_Highest'\n",
       "\\item 'X5\\_\\_Mood\\_\\_sad\\_'\n",
       "\\item 'X7\\_\\_Appetite\\_\\_increased\\_'\n",
       "\\item 'X8\\_\\_Appetite\\_\\_decreased\\_'\n",
       "\\item 'X9\\_\\_Weight\\_\\_decrease\\_'\n",
       "\\item 'X10\\_\\_Weight\\_\\_increase\\_'\n",
       "\\item 'X7\\_10\\_Highest'\n",
       "\\item 'X11\\_\\_Concentration'\n",
       "\\item 'X12\\_\\_Outlook\\_\\_self\\_'\n",
       "\\item 'X13\\_\\_Suicidal\\_ideation'\n",
       "\\item 'X14\\_\\_Involvement'\n",
       "\\item 'X15\\_\\_Energy'\n",
       "\\item 'X16\\_\\_Psychomotor\\_slowing'\n",
       "\\item 'X17\\_\\_Psychomotor\\_agitation'\n",
       "\\item 'X16\\_17\\_Highest'\n",
       "\\end{enumerate*}\n"
      ],
      "text/markdown": [
       "1. 'patients'\n",
       "2. 'sessions'\n",
       "3. 'preposts'\n",
       "4. 'chans_exps'\n",
       "5. 'offsets'\n",
       "6. 'deltas'\n",
       "7. 'delta_pows'\n",
       "8. 'alphas'\n",
       "9. 'alpha_pows'\n",
       "10. 'thetas'\n",
       "11. 'theta_pows'\n",
       "12. 'delta_band_pow'\n",
       "13. 'alpha_band_pow'\n",
       "14. 'theta_band_pow'\n",
       "15. 'l_pow'\n",
       "16. 'h_pow'\n",
       "17. 'total_pow'\n",
       "18. 'QIDS'\n",
       "19. 'X1__Sleep_onset_insomnia'\n",
       "20. 'X2__Mid_nocturnal_insomnia'\n",
       "21. 'X3__Early_morning_insomnia'\n",
       "22. 'X4__Hypersomnia'\n",
       "23. 'X1_4_Highest'\n",
       "24. 'X5__Mood__sad_'\n",
       "25. 'X7__Appetite__increased_'\n",
       "26. 'X8__Appetite__decreased_'\n",
       "27. 'X9__Weight__decrease_'\n",
       "28. 'X10__Weight__increase_'\n",
       "29. 'X7_10_Highest'\n",
       "30. 'X11__Concentration'\n",
       "31. 'X12__Outlook__self_'\n",
       "32. 'X13__Suicidal_ideation'\n",
       "33. 'X14__Involvement'\n",
       "34. 'X15__Energy'\n",
       "35. 'X16__Psychomotor_slowing'\n",
       "36. 'X17__Psychomotor_agitation'\n",
       "37. 'X16_17_Highest'\n",
       "\n",
       "\n"
      ],
      "text/plain": [
       " [1] \"patients\"                   \"sessions\"                  \n",
       " [3] \"preposts\"                   \"chans_exps\"                \n",
       " [5] \"offsets\"                    \"deltas\"                    \n",
       " [7] \"delta_pows\"                 \"alphas\"                    \n",
       " [9] \"alpha_pows\"                 \"thetas\"                    \n",
       "[11] \"theta_pows\"                 \"delta_band_pow\"            \n",
       "[13] \"alpha_band_pow\"             \"theta_band_pow\"            \n",
       "[15] \"l_pow\"                      \"h_pow\"                     \n",
       "[17] \"total_pow\"                  \"QIDS\"                      \n",
       "[19] \"X1__Sleep_onset_insomnia\"   \"X2__Mid_nocturnal_insomnia\"\n",
       "[21] \"X3__Early_morning_insomnia\" \"X4__Hypersomnia\"           \n",
       "[23] \"X1_4_Highest\"               \"X5__Mood__sad_\"            \n",
       "[25] \"X7__Appetite__increased_\"   \"X8__Appetite__decreased_\"  \n",
       "[27] \"X9__Weight__decrease_\"      \"X10__Weight__increase_\"    \n",
       "[29] \"X7_10_Highest\"              \"X11__Concentration\"        \n",
       "[31] \"X12__Outlook__self_\"        \"X13__Suicidal_ideation\"    \n",
       "[33] \"X14__Involvement\"           \"X15__Energy\"               \n",
       "[35] \"X16__Psychomotor_slowing\"   \"X17__Psychomotor_agitation\"\n",
       "[37] \"X16_17_Highest\"            "
      ]
     },
     "metadata": {},
     "output_type": "display_data"
    }
   ],
   "source": [
    "names(pre_mean_data)"
   ]
  },
  {
   "cell_type": "code",
   "execution_count": 14,
   "id": "e244c521",
   "metadata": {},
   "outputs": [],
   "source": [
    "# overall model fitting and confidence intervals\n",
    "\n",
    "formula <- 'chans_exps ~ sessions + (1|patients)'\n",
    "lmf <- lmer(formula, pre_mean_data, REML=FALSE)\n",
    "pred <- add_ci(data.frame(sessions = 0:12), lmf,\n",
    "               type='parametric', alpha=0.05, includeRanef=FALSE) #type='parametric'\n",
    "write.csv(pred, 'exponent_model_predictions_exclude_NEW.csv', row.names=FALSE) # change to exlude XXX"
   ]
  },
  {
   "cell_type": "code",
   "execution_count": 15,
   "id": "6da209b3",
   "metadata": {},
   "outputs": [],
   "source": [
    "formula <- 'QIDS ~ sessions + (1|patients)'\n",
    "lmf <- lmer(formula, pre_mean_data, REML=FALSE)\n",
    "pred_qids <- add_ci(data.frame(sessions = 0:12), lmf,\n",
    "               type='parametric', alpha=0.05, includeRanef=FALSE) "
   ]
  },
  {
   "cell_type": "code",
   "execution_count": 16,
   "id": "82a59409",
   "metadata": {},
   "outputs": [],
   "source": [
    "formula <- 'delta_band_pow ~ sessions + (1|patients)'\n",
    "lmf <- lmer(formula, pre_mean_data, REML=FALSE)\n",
    "pred_delta <- add_ci(data.frame(sessions = 0:12), lmf,\n",
    "               type='parametric', alpha=0.05, includeRanef=FALSE) "
   ]
  },
  {
   "cell_type": "code",
   "execution_count": 12,
   "id": "a8aa8bc6",
   "metadata": {},
   "outputs": [
    {
     "name": "stderr",
     "output_type": "stream",
     "text": [
      "boundary (singular) fit: see ?isSingular\n"
     ]
    }
   ],
   "source": [
    "formula <- 'offsets ~ sessions + (1|patients)'\n",
    "lmf <- lmer(formula, pre_mean_data, REML=FALSE)\n",
    "pred_offset <- add_ci(data.frame(sessions = 0:12), lmf,\n",
    "               type='parametric', alpha=0.05, includeRanef=FALSE) "
   ]
  },
  {
   "cell_type": "code",
   "execution_count": 19,
   "id": "e4bef0c1",
   "metadata": {},
   "outputs": [
    {
     "data": {
      "text/html": [
       "<table>\n",
       "<thead><tr><th scope=col>sessions</th><th scope=col>pred</th><th scope=col>LCB0.025</th><th scope=col>UCB0.975</th></tr></thead>\n",
       "<tbody>\n",
       "\t<tr><td> 0          </td><td>2.653172e-11</td><td>1.534595e-11</td><td>3.771750e-11</td></tr>\n",
       "\t<tr><td> 1          </td><td>2.737208e-11</td><td>1.730219e-11</td><td>3.744197e-11</td></tr>\n",
       "\t<tr><td> 2          </td><td>2.821243e-11</td><td>1.913058e-11</td><td>3.729428e-11</td></tr>\n",
       "\t<tr><td> 3          </td><td>2.905279e-11</td><td>2.078516e-11</td><td>3.732041e-11</td></tr>\n",
       "\t<tr><td> 4          </td><td>2.989314e-11</td><td>2.221047e-11</td><td>3.757581e-11</td></tr>\n",
       "\t<tr><td> 5          </td><td>3.073349e-11</td><td>2.335179e-11</td><td>3.811520e-11</td></tr>\n",
       "\t<tr><td> 6          </td><td>3.157385e-11</td><td>2.417439e-11</td><td>3.897331e-11</td></tr>\n",
       "\t<tr><td> 7          </td><td>3.241420e-11</td><td>2.468047e-11</td><td>4.014794e-11</td></tr>\n",
       "\t<tr><td> 8          </td><td>3.325456e-11</td><td>2.490797e-11</td><td>4.160115e-11</td></tr>\n",
       "\t<tr><td> 9          </td><td>3.409491e-11</td><td>2.491249e-11</td><td>4.327733e-11</td></tr>\n",
       "\t<tr><td>10          </td><td>3.493526e-11</td><td>2.474879e-11</td><td>4.512174e-11</td></tr>\n",
       "\t<tr><td>11          </td><td>3.577562e-11</td><td>2.446156e-11</td><td>4.708968e-11</td></tr>\n",
       "\t<tr><td>12          </td><td>3.661597e-11</td><td>2.408409e-11</td><td>4.914785e-11</td></tr>\n",
       "</tbody>\n",
       "</table>\n"
      ],
      "text/latex": [
       "\\begin{tabular}{r|llll}\n",
       " sessions & pred & LCB0.025 & UCB0.975\\\\\n",
       "\\hline\n",
       "\t  0           & 2.653172e-11 & 1.534595e-11 & 3.771750e-11\\\\\n",
       "\t  1           & 2.737208e-11 & 1.730219e-11 & 3.744197e-11\\\\\n",
       "\t  2           & 2.821243e-11 & 1.913058e-11 & 3.729428e-11\\\\\n",
       "\t  3           & 2.905279e-11 & 2.078516e-11 & 3.732041e-11\\\\\n",
       "\t  4           & 2.989314e-11 & 2.221047e-11 & 3.757581e-11\\\\\n",
       "\t  5           & 3.073349e-11 & 2.335179e-11 & 3.811520e-11\\\\\n",
       "\t  6           & 3.157385e-11 & 2.417439e-11 & 3.897331e-11\\\\\n",
       "\t  7           & 3.241420e-11 & 2.468047e-11 & 4.014794e-11\\\\\n",
       "\t  8           & 3.325456e-11 & 2.490797e-11 & 4.160115e-11\\\\\n",
       "\t  9           & 3.409491e-11 & 2.491249e-11 & 4.327733e-11\\\\\n",
       "\t 10           & 3.493526e-11 & 2.474879e-11 & 4.512174e-11\\\\\n",
       "\t 11           & 3.577562e-11 & 2.446156e-11 & 4.708968e-11\\\\\n",
       "\t 12           & 3.661597e-11 & 2.408409e-11 & 4.914785e-11\\\\\n",
       "\\end{tabular}\n"
      ],
      "text/markdown": [
       "\n",
       "| sessions | pred | LCB0.025 | UCB0.975 |\n",
       "|---|---|---|---|\n",
       "|  0           | 2.653172e-11 | 1.534595e-11 | 3.771750e-11 |\n",
       "|  1           | 2.737208e-11 | 1.730219e-11 | 3.744197e-11 |\n",
       "|  2           | 2.821243e-11 | 1.913058e-11 | 3.729428e-11 |\n",
       "|  3           | 2.905279e-11 | 2.078516e-11 | 3.732041e-11 |\n",
       "|  4           | 2.989314e-11 | 2.221047e-11 | 3.757581e-11 |\n",
       "|  5           | 3.073349e-11 | 2.335179e-11 | 3.811520e-11 |\n",
       "|  6           | 3.157385e-11 | 2.417439e-11 | 3.897331e-11 |\n",
       "|  7           | 3.241420e-11 | 2.468047e-11 | 4.014794e-11 |\n",
       "|  8           | 3.325456e-11 | 2.490797e-11 | 4.160115e-11 |\n",
       "|  9           | 3.409491e-11 | 2.491249e-11 | 4.327733e-11 |\n",
       "| 10           | 3.493526e-11 | 2.474879e-11 | 4.512174e-11 |\n",
       "| 11           | 3.577562e-11 | 2.446156e-11 | 4.708968e-11 |\n",
       "| 12           | 3.661597e-11 | 2.408409e-11 | 4.914785e-11 |\n",
       "\n"
      ],
      "text/plain": [
       "   sessions pred         LCB0.025     UCB0.975    \n",
       "1   0       2.653172e-11 1.534595e-11 3.771750e-11\n",
       "2   1       2.737208e-11 1.730219e-11 3.744197e-11\n",
       "3   2       2.821243e-11 1.913058e-11 3.729428e-11\n",
       "4   3       2.905279e-11 2.078516e-11 3.732041e-11\n",
       "5   4       2.989314e-11 2.221047e-11 3.757581e-11\n",
       "6   5       3.073349e-11 2.335179e-11 3.811520e-11\n",
       "7   6       3.157385e-11 2.417439e-11 3.897331e-11\n",
       "8   7       3.241420e-11 2.468047e-11 4.014794e-11\n",
       "9   8       3.325456e-11 2.490797e-11 4.160115e-11\n",
       "10  9       3.409491e-11 2.491249e-11 4.327733e-11\n",
       "11 10       3.493526e-11 2.474879e-11 4.512174e-11\n",
       "12 11       3.577562e-11 2.446156e-11 4.708968e-11\n",
       "13 12       3.661597e-11 2.408409e-11 4.914785e-11"
      ]
     },
     "metadata": {},
     "output_type": "display_data"
    }
   ],
   "source": [
    "pred_delta\n",
    "write.csv(pred_delta, 'delta_model_predictions_exclude_NEW.csv', row.names=FALSE)"
   ]
  },
  {
   "cell_type": "markdown",
   "id": "b004a28b",
   "metadata": {},
   "source": [
    "### loop through all features & ratings, generate csv with all slope data"
   ]
  },
  {
   "cell_type": "code",
   "execution_count": 24,
   "id": "34180067",
   "metadata": {},
   "outputs": [],
   "source": [
    "# empty data frames to store slope data\n",
    "# pre\n",
    "pre_slope_data <- data.frame(matrix(ncol = 37, nrow = 10))\n",
    "x <- c(names(pre_mean_data))\n",
    "colnames(pre_slope_data) <- x\n",
    "# post\n",
    "post_slope_data <- data.frame(matrix(ncol = 37, nrow = 10))\n",
    "y <- c(names(post_mean_data))\n",
    "colnames(post_slope_data) <- y\n",
    "# # diff\n",
    "# diff_slope_data <- data.frame(matrix(ncol = 37, nrow = 10))\n",
    "# z <- c(names(diff_mean_data))\n",
    "# colnames(diff_slope_data) <- z"
   ]
  },
  {
   "cell_type": "code",
   "execution_count": 11,
   "id": "1fda46a7",
   "metadata": {},
   "outputs": [
    {
     "name": "stderr",
     "output_type": "stream",
     "text": [
      "\n",
      "Attaching package: ‘data.table’\n",
      "\n",
      "The following objects are masked from ‘package:dplyr’:\n",
      "\n",
      "    between, first, last\n",
      "\n"
     ]
    }
   ],
   "source": [
    "library(data.table)"
   ]
  },
  {
   "cell_type": "code",
   "execution_count": 22,
   "id": "f1abbd18",
   "metadata": {},
   "outputs": [
    {
     "data": {
      "text/html": [
       "<ol class=list-inline>\n",
       "\t<li>'chans_exps'</li>\n",
       "\t<li>'offsets'</li>\n",
       "\t<li>'alphas'</li>\n",
       "\t<li>'alpha_pows'</li>\n",
       "\t<li>'thetas'</li>\n",
       "\t<li>'theta_pows'</li>\n",
       "\t<li>'delta_band_pow'</li>\n",
       "\t<li>'alpha_band_pow'</li>\n",
       "\t<li>'theta_band_pow'</li>\n",
       "\t<li>'l_pow'</li>\n",
       "\t<li>'h_pow'</li>\n",
       "\t<li>'total_pow'</li>\n",
       "\t<li>'QIDS'</li>\n",
       "</ol>\n"
      ],
      "text/latex": [
       "\\begin{enumerate*}\n",
       "\\item 'chans\\_exps'\n",
       "\\item 'offsets'\n",
       "\\item 'alphas'\n",
       "\\item 'alpha\\_pows'\n",
       "\\item 'thetas'\n",
       "\\item 'theta\\_pows'\n",
       "\\item 'delta\\_band\\_pow'\n",
       "\\item 'alpha\\_band\\_pow'\n",
       "\\item 'theta\\_band\\_pow'\n",
       "\\item 'l\\_pow'\n",
       "\\item 'h\\_pow'\n",
       "\\item 'total\\_pow'\n",
       "\\item 'QIDS'\n",
       "\\end{enumerate*}\n"
      ],
      "text/markdown": [
       "1. 'chans_exps'\n",
       "2. 'offsets'\n",
       "3. 'alphas'\n",
       "4. 'alpha_pows'\n",
       "5. 'thetas'\n",
       "6. 'theta_pows'\n",
       "7. 'delta_band_pow'\n",
       "8. 'alpha_band_pow'\n",
       "9. 'theta_band_pow'\n",
       "10. 'l_pow'\n",
       "11. 'h_pow'\n",
       "12. 'total_pow'\n",
       "13. 'QIDS'\n",
       "\n",
       "\n"
      ],
      "text/plain": [
       " [1] \"chans_exps\"     \"offsets\"        \"alphas\"         \"alpha_pows\"    \n",
       " [5] \"thetas\"         \"theta_pows\"     \"delta_band_pow\" \"alpha_band_pow\"\n",
       " [9] \"theta_band_pow\" \"l_pow\"          \"h_pow\"          \"total_pow\"     \n",
       "[13] \"QIDS\"          "
      ]
     },
     "metadata": {},
     "output_type": "display_data"
    }
   ],
   "source": [
    "names(pre_mean_nodelta)[4:16]"
   ]
  },
  {
   "cell_type": "code",
   "execution_count": 26,
   "id": "e3f7f1ee",
   "metadata": {
    "scrolled": true
   },
   "outputs": [
    {
     "name": "stderr",
     "output_type": "stream",
     "text": [
      "boundary (singular) fit: see ?isSingular\n",
      "boundary (singular) fit: see ?isSingular\n",
      "boundary (singular) fit: see ?isSingular\n",
      "boundary (singular) fit: see ?isSingular\n",
      "boundary (singular) fit: see ?isSingular\n",
      "Warning message in checkConv(attr(opt, \"derivs\"), opt$par, ctrl = control$checkConv, :\n",
      "“Model failed to converge with max|grad| = 0.00430557 (tol = 0.002, component 1)”boundary (singular) fit: see ?isSingular\n"
     ]
    }
   ],
   "source": [
    "# get Pre slopes dataframe\n",
    "pre_mean_nodelta = copy(pre_mean_data)\n",
    "drops <- c('deltas', 'delta_pows')\n",
    "pre_mean_nodelta <- pre_mean_nodelta[ , !(names(pre_mean_nodelta) %in% drops)]\n",
    "\n",
    "\n",
    "for(i in names(pre_mean_nodelta)[4:16]) {\n",
    "    formula = paste0(i,'~ sessions + (1 + sessions|patients)')\n",
    "    lmf <- lmer(formula, pre_mean_nodelta)\n",
    "    coefs <- coef(lmf)$patients\n",
    "    slopes <- coefs$sessions\n",
    "    pre_slope_data['preposts'] <- rep('Pre', 10)\n",
    "    pre_slope_data['patients'] <- rownames(coefs)\n",
    "    pre_slope_data[i] <- slopes\n",
    "}"
   ]
  },
  {
   "cell_type": "code",
   "execution_count": 27,
   "id": "cbd67fdc",
   "metadata": {},
   "outputs": [],
   "source": [
    "write.csv(pre_slope_data, 'LME_pre_slopes_NEW.csv')"
   ]
  },
  {
   "cell_type": "code",
   "execution_count": 9,
   "id": "a41523f1",
   "metadata": {
    "scrolled": true
   },
   "outputs": [
    {
     "name": "stderr",
     "output_type": "stream",
     "text": [
      "boundary (singular) fit: see ?isSingular\n",
      "boundary (singular) fit: see ?isSingular\n",
      "boundary (singular) fit: see ?isSingular\n",
      "Warning message in checkConv(attr(opt, \"derivs\"), opt$par, ctrl = control$checkConv, :\n",
      "“Model failed to converge with max|grad| = 0.00398826 (tol = 0.002, component 1)”Warning message in checkConv(attr(opt, \"derivs\"), opt$par, ctrl = control$checkConv, :\n",
      "“Model failed to converge with max|grad| = 0.00249178 (tol = 0.002, component 1)”Warning message in checkConv(attr(opt, \"derivs\"), opt$par, ctrl = control$checkConv, :\n",
      "“Model failed to converge with max|grad| = 0.021294 (tol = 0.002, component 1)”Warning message in checkConv(attr(opt, \"derivs\"), opt$par, ctrl = control$checkConv, :\n",
      "“Model failed to converge with max|grad| = 0.00208656 (tol = 0.002, component 1)”boundary (singular) fit: see ?isSingular\n",
      "Warning message in checkConv(attr(opt, \"derivs\"), opt$par, ctrl = control$checkConv, :\n",
      "“Model failed to converge with max|grad| = 0.00543867 (tol = 0.002, component 1)”boundary (singular) fit: see ?isSingular\n",
      "boundary (singular) fit: see ?isSingular\n",
      "Warning message in checkConv(attr(opt, \"derivs\"), opt$par, ctrl = control$checkConv, :\n",
      "“Model failed to converge with max|grad| = 0.00769928 (tol = 0.002, component 1)”boundary (singular) fit: see ?isSingular\n",
      "boundary (singular) fit: see ?isSingular\n",
      "boundary (singular) fit: see ?isSingular\n",
      "Warning message in checkConv(attr(opt, \"derivs\"), opt$par, ctrl = control$checkConv, :\n",
      "“Model failed to converge with max|grad| = 0.00205989 (tol = 0.002, component 1)”Warning message in checkConv(attr(opt, \"derivs\"), opt$par, ctrl = control$checkConv, :\n",
      "“Model failed to converge with max|grad| = 0.00426734 (tol = 0.002, component 1)”boundary (singular) fit: see ?isSingular\n",
      "boundary (singular) fit: see ?isSingular\n",
      "boundary (singular) fit: see ?isSingular\n",
      "boundary (singular) fit: see ?isSingular\n"
     ]
    }
   ],
   "source": [
    "# get Post slopes dataframe\n",
    "for(i in names(post_mean_data)[4:28]) {\n",
    "    formula = paste0(i,'~ sessions + (1 + sessions|patients)')\n",
    "    lmf <- lmer(formula, post_mean_data)\n",
    "    coefs <- coef(lmf)$patients\n",
    "    slopes <- coefs$sessions\n",
    "    post_slope_data['preposts'] <- rep('Post', 10)\n",
    "    post_slope_data['patients'] <- rownames(coefs)\n",
    "    post_slope_data[i] <- slopes\n",
    "}"
   ]
  },
  {
   "cell_type": "code",
   "execution_count": 10,
   "id": "0c498165",
   "metadata": {
    "scrolled": false
   },
   "outputs": [
    {
     "name": "stderr",
     "output_type": "stream",
     "text": [
      "Warning message in checkConv(attr(opt, \"derivs\"), opt$par, ctrl = control$checkConv, :\n",
      "“Model failed to converge with max|grad| = 0.0053062 (tol = 0.002, component 1)”boundary (singular) fit: see ?isSingular\n",
      "Warning message in checkConv(attr(opt, \"derivs\"), opt$par, ctrl = control$checkConv, :\n",
      "“Model failed to converge with max|grad| = 0.012937 (tol = 0.002, component 1)”Warning message in checkConv(attr(opt, \"derivs\"), opt$par, ctrl = control$checkConv, :\n",
      "“Model failed to converge with max|grad| = 0.00890197 (tol = 0.002, component 1)”boundary (singular) fit: see ?isSingular\n",
      "Warning message in checkConv(attr(opt, \"derivs\"), opt$par, ctrl = control$checkConv, :\n",
      "“Model failed to converge with max|grad| = 0.00249178 (tol = 0.002, component 1)”Warning message in checkConv(attr(opt, \"derivs\"), opt$par, ctrl = control$checkConv, :\n",
      "“Model failed to converge with max|grad| = 0.021294 (tol = 0.002, component 1)”Warning message in checkConv(attr(opt, \"derivs\"), opt$par, ctrl = control$checkConv, :\n",
      "“Model failed to converge with max|grad| = 0.00208656 (tol = 0.002, component 1)”boundary (singular) fit: see ?isSingular\n",
      "Warning message in checkConv(attr(opt, \"derivs\"), opt$par, ctrl = control$checkConv, :\n",
      "“Model failed to converge with max|grad| = 0.00543867 (tol = 0.002, component 1)”boundary (singular) fit: see ?isSingular\n",
      "boundary (singular) fit: see ?isSingular\n",
      "Warning message in checkConv(attr(opt, \"derivs\"), opt$par, ctrl = control$checkConv, :\n",
      "“Model failed to converge with max|grad| = 0.00769928 (tol = 0.002, component 1)”boundary (singular) fit: see ?isSingular\n",
      "boundary (singular) fit: see ?isSingular\n",
      "boundary (singular) fit: see ?isSingular\n",
      "Warning message in checkConv(attr(opt, \"derivs\"), opt$par, ctrl = control$checkConv, :\n",
      "“Model failed to converge with max|grad| = 0.00205989 (tol = 0.002, component 1)”Warning message in checkConv(attr(opt, \"derivs\"), opt$par, ctrl = control$checkConv, :\n",
      "“Model failed to converge with max|grad| = 0.00426734 (tol = 0.002, component 1)”boundary (singular) fit: see ?isSingular\n",
      "boundary (singular) fit: see ?isSingular\n",
      "boundary (singular) fit: see ?isSingular\n",
      "boundary (singular) fit: see ?isSingular\n"
     ]
    }
   ],
   "source": [
    "# get Diff slopes dataframe\n",
    "for(i in names(diff_mean_data)[4:28]) {\n",
    "    formula = paste0(i,'~ sessions + (1 + sessions|patients)')\n",
    "    lmf <- lmer(formula, diff_mean_data)\n",
    "    coefs <- coef(lmf)$patients\n",
    "    slopes <- coefs$sessions\n",
    "    diff_slope_data['preposts'] <- rep('Diff', 10)\n",
    "    diff_slope_data['patients'] <- rownames(coefs)\n",
    "    diff_slope_data[i] <- slopes\n",
    "}"
   ]
  },
  {
   "cell_type": "code",
   "execution_count": 12,
   "id": "2d23e4aa",
   "metadata": {},
   "outputs": [],
   "source": [
    "# save data in csv\n",
    "\n",
    "slope_dat <- rbind(pre_slope_data, post_slope_data, diff_slope_data)\n",
    "#write.csv(slope_dat, 'LME_slopes.csv')"
   ]
  },
  {
   "cell_type": "code",
   "execution_count": 27,
   "id": "b58de395",
   "metadata": {},
   "outputs": [
    {
     "name": "stderr",
     "output_type": "stream",
     "text": [
      "boundary (singular) fit: see ?isSingular\n"
     ]
    },
    {
     "data": {
      "text/plain": [
       "Linear mixed model fit by REML ['lmerMod']\n",
       "Formula: theta_pows ~ sessions + (1 + sessions | patients)\n",
       "   Data: pre_mean_data\n",
       "\n",
       "REML criterion at convergence: 12.3\n",
       "\n",
       "Scaled residuals: \n",
       "     Min       1Q   Median       3Q      Max \n",
       "-1.02044 -0.50878 -0.31323  0.06405  2.65640 \n",
       "\n",
       "Random effects:\n",
       " Groups   Name        Variance  Std.Dev. Corr\n",
       " patients (Intercept) 0.0000000 0.0000       \n",
       "          sessions    0.0001231 0.0111    NaN\n",
       " Residual             0.0641070 0.2532       \n",
       "Number of obs: 22, groups:  patients, 10\n",
       "\n",
       "Fixed effects:\n",
       "            Estimate Std. Error t value\n",
       "(Intercept)  0.18997    0.09293   2.044\n",
       "sessions     0.03625    0.01425   2.544\n",
       "\n",
       "Correlation of Fixed Effects:\n",
       "         (Intr)\n",
       "sessions -0.783\n",
       "convergence code: 0\n",
       "boundary (singular) fit: see ?isSingular\n"
      ]
     },
     "metadata": {},
     "output_type": "display_data"
    }
   ],
   "source": [
    "formula = 'theta_pows ~ sessions + (1 + sessions|patients)'\n",
    "lmf <- lmer(formula, pre_mean_data)\n",
    "summary(lmf)"
   ]
  },
  {
   "cell_type": "code",
   "execution_count": 25,
   "id": "2fe6eaf0",
   "metadata": {},
   "outputs": [
    {
     "data": {
      "text/plain": [
       "Linear mixed model fit by REML ['lmerMod']\n",
       "Formula: chans_exps ~ sessions + QIDS + X5__Mood__sad_ + (1 + sessions |  \n",
       "    patients)\n",
       "   Data: pre_mean_data\n",
       "\n",
       "REML criterion at convergence: 6.9\n",
       "\n",
       "Scaled residuals: \n",
       "     Min       1Q   Median       3Q      Max \n",
       "-1.58674 -0.38514  0.05344  0.41238  1.26727 \n",
       "\n",
       "Random effects:\n",
       " Groups   Name        Variance  Std.Dev. Corr \n",
       " patients (Intercept) 0.0644526 0.25388       \n",
       "          sessions    0.0008686 0.02947  -0.96\n",
       " Residual             0.0155877 0.12485       \n",
       "Number of obs: 22, groups:  patients, 10\n",
       "\n",
       "Fixed effects:\n",
       "               Estimate Std. Error t value\n",
       "(Intercept)     0.71904    0.23441   3.067\n",
       "sessions        0.03124    0.01607   1.945\n",
       "QIDS            0.02649    0.01341   1.976\n",
       "X5__Mood__sad_ -0.06140    0.06344  -0.968\n",
       "\n",
       "Correlation of Fixed Effects:\n",
       "            (Intr) sessns QIDS  \n",
       "sessions    -0.844              \n",
       "QIDS        -0.683  0.304       \n",
       "X5__Md__sd_ -0.054  0.289 -0.622"
      ]
     },
     "metadata": {},
     "output_type": "display_data"
    }
   ],
   "source": [
    "formula = 'chans_exps ~ sessions + QIDS + X5__Mood__sad_ + (1 + sessions|patients)'\n",
    "lmf <- lmer(formula, pre_mean_data)\n",
    "summary(lmf)"
   ]
  },
  {
   "cell_type": "code",
   "execution_count": 28,
   "id": "5ef6c51e",
   "metadata": {},
   "outputs": [
    {
     "data": {
      "text/plain": [
       "Linear mixed model fit by REML ['lmerMod']\n",
       "Formula: QIDS ~ sessions + chans_exps + alphas + thetas + alpha_pows +  \n",
       "    theta_pows + (1 + sessions | patients)\n",
       "   Data: pre_mean_data\n",
       "\n",
       "REML criterion at convergence: 87.7\n",
       "\n",
       "Scaled residuals: \n",
       "     Min       1Q   Median       3Q      Max \n",
       "-0.69167 -0.15634 -0.00026  0.24247  0.81847 \n",
       "\n",
       "Random effects:\n",
       " Groups   Name        Variance Std.Dev. Corr \n",
       " patients (Intercept) 6.2157   2.4931        \n",
       "          sessions    0.4184   0.6468   -0.44\n",
       " Residual             1.5724   1.2540        \n",
       "Number of obs: 21, groups:  patients, 10\n",
       "\n",
       "Fixed effects:\n",
       "            Estimate Std. Error t value\n",
       "(Intercept)  12.0074    13.3590   0.899\n",
       "sessions     -0.8144     0.2790  -2.919\n",
       "chans_exps   -1.4976     5.1167  -0.293\n",
       "alphas        0.5430     0.5356   1.014\n",
       "thetas        0.7848     0.7838   1.001\n",
       "alpha_pows   -1.9387     5.5297  -0.351\n",
       "theta_pows   -2.2953     2.7247  -0.842\n",
       "\n",
       "Correlation of Fixed Effects:\n",
       "           (Intr) sessns chns_x alphas thetas alph_p\n",
       "sessions    0.246                                   \n",
       "chans_exps -0.848 -0.403                            \n",
       "alphas     -0.634 -0.035  0.233                     \n",
       "thetas     -0.731 -0.111  0.689  0.080              \n",
       "alpha_pows -0.678 -0.411  0.562  0.537  0.237       \n",
       "theta_pows -0.322 -0.351  0.212  0.408 -0.120  0.577"
      ]
     },
     "metadata": {},
     "output_type": "display_data"
    }
   ],
   "source": [
    "formula = 'QIDS ~ sessions + chans_exps + alphas + thetas + alpha_pows + theta_pows + (1 + sessions|patients)'\n",
    "lmf <- lmer(formula, pre_mean_data)\n",
    "summary(lmf)"
   ]
  },
  {
   "cell_type": "code",
   "execution_count": 22,
   "id": "b171ff2e",
   "metadata": {},
   "outputs": [
    {
     "data": {
      "text/html": [
       "<ol>\n",
       "\t<li><ol class=list-inline>\n",
       "\t<li>'1'</li>\n",
       "\t<li>'2'</li>\n",
       "\t<li>'3'</li>\n",
       "\t<li>'4'</li>\n",
       "\t<li>'5'</li>\n",
       "\t<li>'6'</li>\n",
       "\t<li>'7'</li>\n",
       "\t<li>'8'</li>\n",
       "\t<li>'9'</li>\n",
       "\t<li>'10'</li>\n",
       "\t<li>'11'</li>\n",
       "\t<li>'12'</li>\n",
       "\t<li>'13'</li>\n",
       "\t<li>'14'</li>\n",
       "\t<li>'15'</li>\n",
       "\t<li>'16'</li>\n",
       "\t<li>'17'</li>\n",
       "\t<li>'18'</li>\n",
       "\t<li>'19'</li>\n",
       "\t<li>'20'</li>\n",
       "\t<li>'21'</li>\n",
       "\t<li>'22'</li>\n",
       "\t<li>'23'</li>\n",
       "</ol>\n",
       "</li>\n",
       "\t<li><ol class=list-inline>\n",
       "\t<li>'patients'</li>\n",
       "\t<li>'sessions'</li>\n",
       "\t<li>'preposts'</li>\n",
       "\t<li>'chans_exps'</li>\n",
       "\t<li>'alphas'</li>\n",
       "\t<li>'alpha_pows'</li>\n",
       "\t<li>'thetas'</li>\n",
       "\t<li>'theta_pows'</li>\n",
       "\t<li>'QIDS'</li>\n",
       "\t<li>'X1__Sleep_onset_insomnia'</li>\n",
       "\t<li>'X2__Mid_nocturnal_insomnia'</li>\n",
       "\t<li>'X3__Early_morning_insomnia'</li>\n",
       "\t<li>'X4__Hypersomnia'</li>\n",
       "\t<li>'X1_4_Highest'</li>\n",
       "\t<li>'X5__Mood__sad_'</li>\n",
       "\t<li>'X7__Appetite__increased_'</li>\n",
       "\t<li>'X8__Appetite__decreased_'</li>\n",
       "\t<li>'X9__Weight__decrease_'</li>\n",
       "\t<li>'X10__Weight__increase_'</li>\n",
       "\t<li>'X7_10_Highest'</li>\n",
       "\t<li>'X11__Concentration'</li>\n",
       "\t<li>'X12__Outlook__self_'</li>\n",
       "\t<li>'X13__Suicidal_ideation'</li>\n",
       "\t<li>'X14__Involvement'</li>\n",
       "\t<li>'X15__Energy'</li>\n",
       "\t<li>'X16__Psychomotor_slowing'</li>\n",
       "\t<li>'X17__Psychomotor_agitation'</li>\n",
       "\t<li>'X16_17_Highest'</li>\n",
       "</ol>\n",
       "</li>\n",
       "</ol>\n"
      ],
      "text/latex": [
       "\\begin{enumerate}\n",
       "\\item \\begin{enumerate*}\n",
       "\\item '1'\n",
       "\\item '2'\n",
       "\\item '3'\n",
       "\\item '4'\n",
       "\\item '5'\n",
       "\\item '6'\n",
       "\\item '7'\n",
       "\\item '8'\n",
       "\\item '9'\n",
       "\\item '10'\n",
       "\\item '11'\n",
       "\\item '12'\n",
       "\\item '13'\n",
       "\\item '14'\n",
       "\\item '15'\n",
       "\\item '16'\n",
       "\\item '17'\n",
       "\\item '18'\n",
       "\\item '19'\n",
       "\\item '20'\n",
       "\\item '21'\n",
       "\\item '22'\n",
       "\\item '23'\n",
       "\\end{enumerate*}\n",
       "\n",
       "\\item \\begin{enumerate*}\n",
       "\\item 'patients'\n",
       "\\item 'sessions'\n",
       "\\item 'preposts'\n",
       "\\item 'chans\\_exps'\n",
       "\\item 'alphas'\n",
       "\\item 'alpha\\_pows'\n",
       "\\item 'thetas'\n",
       "\\item 'theta\\_pows'\n",
       "\\item 'QIDS'\n",
       "\\item 'X1\\_\\_Sleep\\_onset\\_insomnia'\n",
       "\\item 'X2\\_\\_Mid\\_nocturnal\\_insomnia'\n",
       "\\item 'X3\\_\\_Early\\_morning\\_insomnia'\n",
       "\\item 'X4\\_\\_Hypersomnia'\n",
       "\\item 'X1\\_4\\_Highest'\n",
       "\\item 'X5\\_\\_Mood\\_\\_sad\\_'\n",
       "\\item 'X7\\_\\_Appetite\\_\\_increased\\_'\n",
       "\\item 'X8\\_\\_Appetite\\_\\_decreased\\_'\n",
       "\\item 'X9\\_\\_Weight\\_\\_decrease\\_'\n",
       "\\item 'X10\\_\\_Weight\\_\\_increase\\_'\n",
       "\\item 'X7\\_10\\_Highest'\n",
       "\\item 'X11\\_\\_Concentration'\n",
       "\\item 'X12\\_\\_Outlook\\_\\_self\\_'\n",
       "\\item 'X13\\_\\_Suicidal\\_ideation'\n",
       "\\item 'X14\\_\\_Involvement'\n",
       "\\item 'X15\\_\\_Energy'\n",
       "\\item 'X16\\_\\_Psychomotor\\_slowing'\n",
       "\\item 'X17\\_\\_Psychomotor\\_agitation'\n",
       "\\item 'X16\\_17\\_Highest'\n",
       "\\end{enumerate*}\n",
       "\n",
       "\\end{enumerate}\n"
      ],
      "text/markdown": [
       "1. 1. '1'\n",
       "2. '2'\n",
       "3. '3'\n",
       "4. '4'\n",
       "5. '5'\n",
       "6. '6'\n",
       "7. '7'\n",
       "8. '8'\n",
       "9. '9'\n",
       "10. '10'\n",
       "11. '11'\n",
       "12. '12'\n",
       "13. '13'\n",
       "14. '14'\n",
       "15. '15'\n",
       "16. '16'\n",
       "17. '17'\n",
       "18. '18'\n",
       "19. '19'\n",
       "20. '20'\n",
       "21. '21'\n",
       "22. '22'\n",
       "23. '23'\n",
       "\n",
       "\n",
       "\n",
       "2. 1. 'patients'\n",
       "2. 'sessions'\n",
       "3. 'preposts'\n",
       "4. 'chans_exps'\n",
       "5. 'alphas'\n",
       "6. 'alpha_pows'\n",
       "7. 'thetas'\n",
       "8. 'theta_pows'\n",
       "9. 'QIDS'\n",
       "10. 'X1__Sleep_onset_insomnia'\n",
       "11. 'X2__Mid_nocturnal_insomnia'\n",
       "12. 'X3__Early_morning_insomnia'\n",
       "13. 'X4__Hypersomnia'\n",
       "14. 'X1_4_Highest'\n",
       "15. 'X5__Mood__sad_'\n",
       "16. 'X7__Appetite__increased_'\n",
       "17. 'X8__Appetite__decreased_'\n",
       "18. 'X9__Weight__decrease_'\n",
       "19. 'X10__Weight__increase_'\n",
       "20. 'X7_10_Highest'\n",
       "21. 'X11__Concentration'\n",
       "22. 'X12__Outlook__self_'\n",
       "23. 'X13__Suicidal_ideation'\n",
       "24. 'X14__Involvement'\n",
       "25. 'X15__Energy'\n",
       "26. 'X16__Psychomotor_slowing'\n",
       "27. 'X17__Psychomotor_agitation'\n",
       "28. 'X16_17_Highest'\n",
       "\n",
       "\n",
       "\n",
       "\n",
       "\n"
      ],
      "text/plain": [
       "[[1]]\n",
       " [1] \"1\"  \"2\"  \"3\"  \"4\"  \"5\"  \"6\"  \"7\"  \"8\"  \"9\"  \"10\" \"11\" \"12\" \"13\" \"14\" \"15\"\n",
       "[16] \"16\" \"17\" \"18\" \"19\" \"20\" \"21\" \"22\" \"23\"\n",
       "\n",
       "[[2]]\n",
       " [1] \"patients\"                   \"sessions\"                  \n",
       " [3] \"preposts\"                   \"chans_exps\"                \n",
       " [5] \"alphas\"                     \"alpha_pows\"                \n",
       " [7] \"thetas\"                     \"theta_pows\"                \n",
       " [9] \"QIDS\"                       \"X1__Sleep_onset_insomnia\"  \n",
       "[11] \"X2__Mid_nocturnal_insomnia\" \"X3__Early_morning_insomnia\"\n",
       "[13] \"X4__Hypersomnia\"            \"X1_4_Highest\"              \n",
       "[15] \"X5__Mood__sad_\"             \"X7__Appetite__increased_\"  \n",
       "[17] \"X8__Appetite__decreased_\"   \"X9__Weight__decrease_\"     \n",
       "[19] \"X10__Weight__increase_\"     \"X7_10_Highest\"             \n",
       "[21] \"X11__Concentration\"         \"X12__Outlook__self_\"       \n",
       "[23] \"X13__Suicidal_ideation\"     \"X14__Involvement\"          \n",
       "[25] \"X15__Energy\"                \"X16__Psychomotor_slowing\"  \n",
       "[27] \"X17__Psychomotor_agitation\" \"X16_17_Highest\"            \n"
      ]
     },
     "metadata": {},
     "output_type": "display_data"
    }
   ],
   "source": [
    "labels(pre_mean_data)"
   ]
  },
  {
   "cell_type": "code",
   "execution_count": null,
   "id": "708a95af",
   "metadata": {},
   "outputs": [],
   "source": []
  }
 ],
 "metadata": {
  "kernelspec": {
   "display_name": "R",
   "language": "R",
   "name": "ir"
  },
  "language_info": {
   "codemirror_mode": "r",
   "file_extension": ".r",
   "mimetype": "text/x-r-source",
   "name": "R",
   "pygments_lexer": "r",
   "version": "3.6.1"
  }
 },
 "nbformat": 4,
 "nbformat_minor": 5
}
